{
 "cells": [
  {
   "cell_type": "markdown",
   "id": "3f93150a-4f2d-47c8-b0fa-877752576751",
   "metadata": {},
   "source": [
    "# Data Science Tools and Ecosystem"
   ]
  },
  {
   "cell_type": "markdown",
   "id": "39dfe050-dc88-4192-9f42-3de75dde4ccb",
   "metadata": {},
   "source": [
    "In this notebook, Data Science Tools and Ecosystem are summarized."
   ]
  },
  {
   "cell_type": "markdown",
   "id": "8743c434-0949-4f41-b753-4ef3d5eb3eba",
   "metadata": {},
   "source": [
    "Some of the popular languages that Data Scientists use are:\n",
    "\n",
    "1. Python\n",
    "2. R\n",
    "3. SQL\n",
    "4. Scala\n",
    "5. Java\n",
    "6. C++\n",
    "7. JavaScript\n",
    "8. Julia\n",
    "9. Php\n",
    "10. GO\n",
    "11. Ruby\n",
    "12. Visual Basic"
   ]
  },
  {
   "cell_type": "markdown",
   "id": "e9ee33c4-fb01-42a3-bffe-ab228d7e5824",
   "metadata": {},
   "source": [
    "Some of the commonly used libraries used by Data Scientists include:\n",
    "1. Pandas\n",
    "2. Numphy\n",
    "3. Matplotlib\n",
    "4. Seaborn\n",
    "5. Scikit-learn\n",
    "6. Keras\n",
    "7. TensorFlow\n",
    "8. PyTorch\n",
    "9. Apache Spark\n",
    "10. Vegas\n",
    "11. Big DL\n",
    "12. Ggplot    "
   ]
  },
  {
   "cell_type": "markdown",
   "id": "e7996e45-40bf-44ff-bc86-323707e15dde",
   "metadata": {},
   "source": [
    "|Data Science Tools|\n",
    "|--------------------|\n",
    "|SAS|\n",
    "|Apache Hadoop|\n",
    "|TensorFlow| \n",
    "|Anaconda|\n",
    "|Jupyter Notebook|\n",
    "|Spyder|\n",
    "|Zeppelin|\n",
    "|R Studio|"
   ]
  },
  {
   "cell_type": "markdown",
   "id": "899ac28c-d168-49b3-9a14-b79ddb48a8ff",
   "metadata": {},
   "source": [
    "### Below are a few examples of evaluating arithmetic expressions in Python"
   ]
  },
  {
   "cell_type": "code",
   "execution_count": 10,
   "id": "b894e747-5510-436c-8ccf-4e077d9b053d",
   "metadata": {},
   "outputs": [
    {
     "data": {
      "text/plain": [
       "17"
      ]
     },
     "execution_count": 10,
     "metadata": {},
     "output_type": "execute_result"
    }
   ],
   "source": [
    "# This a simple arithmetic expression to mutiply then add integers\n",
    "(3*4)+5"
   ]
  },
  {
   "cell_type": "code",
   "execution_count": 12,
   "id": "fb64c182-77f5-4366-bead-903e90541a48",
   "metadata": {},
   "outputs": [
    {
     "data": {
      "text/plain": [
       "3.3333333333333335"
      ]
     },
     "execution_count": 12,
     "metadata": {},
     "output_type": "execute_result"
    }
   ],
   "source": [
    "# This will convert 200 minutes to hours by diving by 60\n",
    "200/60"
   ]
  },
  {
   "cell_type": "markdown",
   "id": "cd4abc69-d7a7-4f37-9624-fee14fce4ada",
   "metadata": {},
   "source": [
    "### Objectives:\n",
    "- List popular languages for Data Science\n",
    "- Create Markdown to Code Cell\n",
    "- List Popular Libraries for Data Science\n",
    "- List of well Known Data Science Tools\n",
    "- How to Provide Comments in the Cell\n",
    "- Add Ordered And Unordered Lists to  Markdown Cell\n"
   ]
  },
  {
   "cell_type": "markdown",
   "id": "78b476ad-ec1a-41be-88b3-349215d33e3d",
   "metadata": {},
   "source": [
    "## Author\n",
    "Divya Kumari"
   ]
  }
 ],
 "metadata": {
  "kernelspec": {
   "display_name": "Python 3 (ipykernel)",
   "language": "python",
   "name": "python3"
  },
  "language_info": {
   "codemirror_mode": {
    "name": "ipython",
    "version": 3
   },
   "file_extension": ".py",
   "mimetype": "text/x-python",
   "name": "python",
   "nbconvert_exporter": "python",
   "pygments_lexer": "ipython3",
   "version": "3.11.4"
  }
 },
 "nbformat": 4,
 "nbformat_minor": 5
}
